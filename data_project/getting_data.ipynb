{
 "cells": [
  {
   "cell_type": "code",
   "execution_count": 32,
   "metadata": {},
   "outputs": [
    {
     "name": "stdout",
     "output_type": "stream",
     "text": [
      "{'id': 131913, 'age_ratings': [101730], 'alternative_names': [40085, 40086, 40087], 'category': 0, 'cover': 267633, 'created_at': 1584788069, 'external_games': [1977891], 'first_release_date': 1474416000, 'game_modes': [1], 'genres': [34], 'involved_companies': [94670, 94671], 'keywords': [962, 1313, 1937, 24359], 'name': 'Maji Kyun! Renaissance', 'platforms': [46], 'player_perspectives': [5], 'release_dates': [191446], 'screenshots': [918066, 918067, 918068], 'similar_games': [60248, 60959, 110576, 132092, 142445, 225683, 225684, 238887, 238897, 238904], 'slug': 'maji-kyun-renaissance', 'storyline': \"In a world where art becomes magic, Aigasaki Kohana is a student who just enrolled into Hoshigei Academy, a high school conceived to help students fully develop their art. Inspired by her late mother, a flower arranger, she enrolls as a second year student. However, while she discovers what becoming an Artista really means, she'll discover friendship and love...\", 'summary': 'A cross media collaboration project between Sunrise & Broccolli.', 'tags': [31, 44, 268435490, 536871874, 536872225, 536872849, 536895271], 'themes': [31, 44], 'updated_at': 1681992241, 'url': 'https://www.igdb.com/games/maji-kyun-renaissance', 'videos': [34610], 'websites': [137453, 137454, 434195], 'checksum': '21773c78-1eff-c813-e5b4-9b6e8841eded', 'game_localizations': [12809]}\n",
      "{'id': 2859, 'age_ratings': [61810], 'alternative_names': [145082], 'category': 0, 'cover': 180064, 'created_at': 1375233434, 'external_games': [49804, 137724, 248863], 'first_release_date': 1002153600, 'franchise': 117, 'franchises': [117], 'game_modes': [1], 'genres': [8, 31], 'involved_companies': [6891, 213202], 'keywords': [215, 4142, 4654, 5782, 6711], 'name': 'Scooby-Doo and the Cyber Chase', 'platforms': [7], 'player_perspectives': [2], 'rating': 65.32415432965102, 'rating_count': 19, 'release_dates': [231116, 231117], 'screenshots': [424562, 424563, 424564], 'similar_games': [20342, 24426, 25646, 28070, 55190, 56033, 68271, 111130, 116530, 118313], 'slug': 'scooby-doo-and-the-cyber-chase', 'summary': 'Play as Shaggy or Scooby and try to defeat the Phantom Virus in Scooby-Doo and the Cyber Chase for PlayStation. Released to correlate with the same-titled movie, this seven-stage, multilevel adventure puts the Mystery Inc. gang in the middle of cyberspace warding off bad guys and evildoers in their attempt to locate the Phantom Virus.\\n\\nFrom a control room players can access the areas of Japan, Ancient Rome, Arctic Circle, Prehistoric Jungle, The Big City, Egypt, and an Amusement Park. Each area consists of three levels including the boss level, but initially only the Japan area can be accessed with other areas becoming available as play progresses. Each area alternates between Shaggy and Scooby as the character being controlled.', 'tags': [1, 19, 27, 268435464, 268435487, 536871127, 536875054, 536875566, 536876694, 536877623], 'themes': [1, 19, 27], 'total_rating': 65.32415432965102, 'total_rating_count': 19, 'updated_at': 1734055576, 'url': 'https://www.igdb.com/games/scooby-doo-and-the-cyber-chase', 'websites': [171604, 336018], 'checksum': '3217e4cc-ba3d-fa9f-b754-dadb1af8bd47', 'ports': [248593], 'language_supports': [721530], 'collections': [2165]}\n",
      "{'id': 88308, 'category': 0, 'cover': 64849, 'created_at': 1519237439, 'external_games': [243459, 1960113], 'first_release_date': 1478649600, 'name': 'Hey Duggee: The Big Outdoor App', 'platforms': [39], 'release_dates': [150633], 'screenshots': [208806, 208807, 208808, 208809, 208810, 208811, 208812, 208813, 208814, 208815], 'slug': 'hey-duggee-the-big-outdoor-app', 'summary': 'Welcome to the Big Outdoors, Squirrels! Introducing the latest app featuring Hey Duggee! Safe, ad-free fun for your little ones. \\n \\nCompleting each activity earns the Squirrel a badge. With 5 Squirrels playing for 7 badges each, that’s a whole lot of Duggee Hugs!', 'updated_at': 1685014987, 'url': 'https://www.igdb.com/games/hey-duggee-the-big-outdoor-app', 'websites': [77047, 417214], 'checksum': '54591705-f933-f8bc-2290-20b37d0a1d13'}\n",
      "{'id': 165668, 'artworks': [48490], 'category': 0, 'cover': 255062, 'created_at': 1630482010, 'external_games': [2084097, 2115290], 'genres': [31], 'name': 'Endings', 'screenshots': [597251, 597254, 597255, 597257, 597259, 597263, 597264], 'similar_games': [25646, 76253, 81249, 87622, 96217, 103292, 106805, 106987, 111130, 115280], 'slug': 'endings', 'summary': 'Between Life and Death .. 2D Puzzle Platformer Game', 'tags': [1, 268435487], 'themes': [1], 'updated_at': 1685764902, 'url': 'https://www.igdb.com/games/endings', 'websites': [216281, 466776], 'checksum': '13d05c48-faab-8410-2d8e-89e3ec7e6c93', 'language_supports': [365673, 365674, 365675, 365676, 365677, 365678, 365679, 365680, 365681, 365682]}\n",
      "{'id': 95080, 'category': 0, 'created_at': 1521818623, 'external_games': [1989881], 'name': 'Dotra', 'slug': 'dotra', 'updated_at': 1670992528, 'url': 'https://www.igdb.com/games/dotra', 'websites': [445624], 'checksum': 'bc043ffb-ad60-6bd0-801b-55a6141e773c'}\n",
      "{'id': 104748, 'category': 0, 'created_at': 1530519587, 'external_games': [1155919, 1972586], 'name': 'Space station - build your own ISS', 'slug': 'space-station-build-your-own-iss', 'updated_at': 1670986137, 'url': 'https://www.igdb.com/games/space-station-build-your-own-iss', 'websites': [429116], 'checksum': '69cba8e8-24a8-db9c-1970-12e455d00ff9'}\n",
      "{'id': 89616, 'category': 0, 'cover': 192106, 'created_at': 1519986874, 'external_games': [269608, 1949905], 'game_modes': [1], 'genres': [9, 33], 'hypes': 1, 'involved_companies': [154613], 'name': 'Bubble Whirl Shooter', 'platforms': [34, 39], 'similar_games': [18115, 19222, 25905, 41349, 85804, 87170, 87507, 90788, 90965, 95776], 'slug': 'bubble-whirl-shooter', 'status': 8, 'summary': 'Shoot bubbles and match colors to pop your way up to victory in this bubble shooting adventure, win magic keys to unlock more secret colorful bubble world, it’s time to enjoy the endless bubble shooting fun!', 'tags': [268435465, 268435489], 'updated_at': 1678800343, 'url': 'https://www.igdb.com/games/bubble-whirl-shooter', 'websites': [407422], 'checksum': '970708ae-528c-7915-8f18-8786a4120376'}\n",
      "{'id': 91579, 'category': 0, 'created_at': 1521138594, 'external_games': [128240, 1189096], 'name': 'Racing Live', 'slug': 'racing-live', 'updated_at': 1670942773, 'url': 'https://www.igdb.com/games/racing-live', 'websites': [346516], 'checksum': '3bf799f5-07cd-c4af-a786-f50dbc8d9cdf'}\n",
      "{'id': 70668, 'age_ratings': [128348], 'category': 0, 'cover': 290557, 'created_at': 1506601256, 'external_games': [135021, 1877682], 'first_release_date': 1197504000, 'franchises': [4420], 'genres': [7, 13, 14], 'involved_companies': [206440], 'name': 'KuruKuru Princess: Yume no White Quartet', 'platforms': [20], 'release_dates': [458295], 'screenshots': [1007468, 1007469, 1007470, 1007471, 1007472], 'similar_games': [19075, 67408, 112846, 114285, 115869, 116353, 116667, 118871, 119422, 120126], 'slug': 'kurukuru-princess-yume-no-white-quartet', 'tags': [35, 44, 268435463, 268435469, 268435470], 'themes': [35, 44], 'updated_at': 1678068875, 'url': 'https://www.igdb.com/games/kurukuru-princess-yume-no-white-quartet', 'websites': [364046], 'checksum': 'be2f5429-0c21-32ad-cf96-6c8c1f661827'}\n",
      "{'id': 2401, 'aggregated_rating': 70.0, 'aggregated_rating_count': 2, 'category': 0, 'cover': 407411, 'created_at': 1372880932, 'external_games': [49179, 153135, 1868081], 'first_release_date': 861321600, 'game_modes': [1, 2], 'genres': [13, 14], 'involved_companies': [5589, 5590], 'keywords': [313, 43995, 43996, 43997, 43998], 'name': 'Jonah Lomu Rugby', 'platforms': [7, 13, 32], 'player_perspectives': [2, 4], 'release_dates': [5196, 320221, 320222], 'screenshots': [31145], 'similar_games': [80239, 109606, 114286, 116343, 116349, 116350, 116351, 116352, 116353, 241246], 'slug': 'jonah-lomu-rugby', 'summary': 'Jonah Lomu Rugby is a sports video game developed by Rage Software and published by Codemasters in 1997. It was released for MS-DOS, PlayStation and Sega Saturn. It was the first rugby union game released on the Saturn or PlayStation platforms.\\n\\nIt has five game modes: Friendly, World Cup, Tournament, Territories Cup and Classic Matches.\\n\\nThe title of the video game refers to former New Zealand winger Jonah Lomu.', 'tags': [268435470, 536871225], 'total_rating': 70.0, 'total_rating_count': 2, 'updated_at': 1727332861, 'url': 'https://www.igdb.com/games/jonah-lomu-rugby', 'websites': [355016, 667686], 'checksum': '343b8c81-f0cb-bc77-93b8-9f39ec6fec63'}\n"
     ]
    }
   ],
   "source": [
    "from os import environ\n",
    "from importlib import reload\n",
    "from api_functions import get_info_test\n",
    "from requests import post\n",
    "import api_functions\n",
    "reload(api_functions)\n",
    "from api_functions import get_info_test\n",
    "\n",
    "\n",
    "info = get_info_test().json()\n",
    "for game in info:\n",
    "    print(game)"
   ]
  },
  {
   "cell_type": "code",
   "execution_count": null,
   "metadata": {},
   "outputs": [],
   "source": []
  }
 ],
 "metadata": {
  "kernelspec": {
   "display_name": ".venv",
   "language": "python",
   "name": "python3"
  },
  "language_info": {
   "codemirror_mode": {
    "name": "ipython",
    "version": 3
   },
   "file_extension": ".py",
   "mimetype": "text/x-python",
   "name": "python",
   "nbconvert_exporter": "python",
   "pygments_lexer": "ipython3",
   "version": "3.13.0"
  }
 },
 "nbformat": 4,
 "nbformat_minor": 2
}
